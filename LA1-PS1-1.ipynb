{
 "cells": [
  {
   "cell_type": "markdown",
   "id": "opponent-proceeding",
   "metadata": {},
   "source": [
    "### Introduction to Linear Algebra Fifth Edition by Gilbert Strang.\n",
    "\n",
    "#### Problem set 1.1"
   ]
  },
  {
   "cell_type": "markdown",
   "id": "normal-roman",
   "metadata": {},
   "source": [
    "#### 1\n",
    "\n",
    "Descibe geometrically (line, plane, or all of $\\mathbb{R}^3$) all linear combinations of\n",
    "\n",
    "(a) $\\begin{bmatrix} 1 \\\\ 2 \\\\ 3 \\end{bmatrix} $ and $\\begin{bmatrix} 3 \\\\ 6 \\\\ 9 \\end{bmatrix} $\n",
    "\n",
    "Here we see that $v_2 = 3v_1$, therefore these two vectors are collinear.  Their linear combinations describe a line through the origin and $v_1$ (which also contains $v_2$).\n",
    "\n",
    "(b) $\\begin{bmatrix} 1 \\\\ 0 \\\\ 0 \\end{bmatrix} $ and $\\begin{bmatrix} 0 \\\\ 2 \\\\ 3 \\end{bmatrix} $\n",
    "\n",
    "These two vectors are not collinear.  There is no constant $k$ such that $v_2 = kv_1$.  Therefore these two vectors describe a plane that contains the origin, $v_1$ and $v_2$.\n",
    "\n",
    "(c) $\\begin{bmatrix} 2 \\\\ 0 \\\\ 0 \\end{bmatrix} $ and $\\begin{bmatrix} 0 \\\\ 2 \\\\ 2 \\end{bmatrix} $ and $\\begin{bmatrix} 2 \\\\ 2 \\\\ 3 \\end{bmatrix} $\n",
    "\n",
    "None of these three vectors can be described as a linear combination of the others, therefore they describe the entire $\\mathbb{R}^3$ plane."
   ]
  },
  {
   "cell_type": "code",
   "execution_count": null,
   "id": "regulated-emergency",
   "metadata": {},
   "outputs": [],
   "source": []
  }
 ],
 "metadata": {
  "kernelspec": {
   "display_name": "Python 3",
   "language": "python",
   "name": "python3"
  },
  "language_info": {
   "codemirror_mode": {
    "name": "ipython",
    "version": 3
   },
   "file_extension": ".py",
   "mimetype": "text/x-python",
   "name": "python",
   "nbconvert_exporter": "python",
   "pygments_lexer": "ipython3",
   "version": "3.8.5"
  }
 },
 "nbformat": 4,
 "nbformat_minor": 5
}
